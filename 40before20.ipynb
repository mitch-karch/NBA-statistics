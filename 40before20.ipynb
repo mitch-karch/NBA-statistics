{
 "cells": [
  {
   "cell_type": "markdown",
   "metadata": {},
   "source": [
    "# NBA Race to Contend : 40 before 20"
   ]
  },
  {
   "cell_type": "markdown",
   "metadata": {},
   "source": [
    "*Excerpt from http://www.espn.com/nba/powerrankings?year=2008&week=18*\n",
    "\n",
    "> The latest pearl of Zen wisdom from Phil Jackson: \"40 before 20.\" Translation: You must win 40 games before you lose 20 to be seen as an elite team"
   ]
  },
  {
   "cell_type": "markdown",
   "metadata": {},
   "source": [
    "## 1: Gathering Information and prototyping"
   ]
  },
  {
   "cell_type": "markdown",
   "metadata": {},
   "source": [
    "First we should gather all the information about the teams for easier reference, we can take advange of the ``nba_api`` library and the static information it will provide. Let's look at what we can get"
   ]
  },
  {
   "cell_type": "code",
   "execution_count": 6,
   "metadata": {},
   "outputs": [
    {
     "data": {
      "text/plain": [
       "{'id': 1610612739,\n",
       " 'full_name': 'Cleveland Cavaliers',\n",
       " 'abbreviation': 'CLE',\n",
       " 'nickname': 'Cavaliers',\n",
       " 'city': 'Cleveland',\n",
       " 'state': 'Ohio',\n",
       " 'year_founded': 1970}"
      ]
     },
     "execution_count": 6,
     "metadata": {},
     "output_type": "execute_result"
    }
   ],
   "source": [
    "from nba_api.stats.static import teams\n",
    "nba_teams = teams.get_teams()\n",
    "# What does this data look like?\n",
    "nba_teams[2]"
   ]
  },
  {
   "cell_type": "markdown",
   "metadata": {},
   "source": [
    "With this we can query the statistical endpoints from the nba website and the ``nba_api`` library."
   ]
  },
  {
   "cell_type": "markdown",
   "metadata": {},
   "source": [
    "We're interested in the magical win record score so we need to trace how a team progresses through the season. More importantly, **we don't want to just look at the end of the season to see a win record**, we're more interested in seeing if a team hit's 40 wins before 40 losses.\n",
    "\n",
    "Let's extract the game record for a team."
   ]
  },
  {
   "cell_type": "code",
   "execution_count": 7,
   "metadata": {},
   "outputs": [],
   "source": [
    "from nba_api.stats.endpoints import teamgamelog"
   ]
  },
  {
   "cell_type": "code",
   "execution_count": 29,
   "metadata": {},
   "outputs": [
    {
     "data": {
      "text/plain": [
       "{'id': 1610612744,\n",
       " 'full_name': 'Golden State Warriors',\n",
       " 'abbreviation': 'GSW',\n",
       " 'nickname': 'Warriors',\n",
       " 'city': 'Golden State',\n",
       " 'state': 'California',\n",
       " 'year_founded': 1946}"
      ]
     },
     "execution_count": 29,
     "metadata": {},
     "output_type": "execute_result"
    }
   ],
   "source": [
    "gsw = [team for team in nba_teams if team['abbreviation'] == 'GSW'][0]\n",
    "gsw"
   ]
  },
  {
   "cell_type": "code",
   "execution_count": 32,
   "metadata": {},
   "outputs": [],
   "source": [
    "gameLog = teamgamelog.TeamGameLog(gsw['id']).get_dict()"
   ]
  },
  {
   "cell_type": "markdown",
   "metadata": {},
   "source": [
    "The gameLog variable has quite a bit of information in it so let's inspect it and see what is accessible."
   ]
  },
  {
   "cell_type": "code",
   "execution_count": 54,
   "metadata": {},
   "outputs": [
    {
     "data": {
      "text/plain": [
       "[1610612744,\n",
       " '0021801000',\n",
       " 'MAR 10, 2019',\n",
       " 'GSW vs. PHX',\n",
       " 'L',\n",
       " 45,\n",
       " 21,\n",
       " 0.682,\n",
       " 240,\n",
       " 42,\n",
       " 95,\n",
       " 0.442,\n",
       " 10,\n",
       " 43,\n",
       " 0.233,\n",
       " 17,\n",
       " 22,\n",
       " 0.773,\n",
       " 15,\n",
       " 34,\n",
       " 49,\n",
       " 34,\n",
       " 10,\n",
       " 6,\n",
       " 17,\n",
       " 24,\n",
       " 111]"
      ]
     },
     "execution_count": 54,
     "metadata": {},
     "output_type": "execute_result"
    }
   ],
   "source": [
    "singleGame = gameLog['resultSets'][0]['rowSet'][0]\n",
    "singleGame"
   ]
  },
  {
   "cell_type": "markdown",
   "metadata": {},
   "source": [
    "Well those are a bunch of weird values, thankfully they package the headers for us so let's combine the data for us to get a better sense of what the information is."
   ]
  },
  {
   "cell_type": "code",
   "execution_count": 69,
   "metadata": {},
   "outputs": [
    {
     "data": {
      "text/plain": [
       "{'Team_ID': 1610612744,\n",
       " 'Game_ID': '0021801000',\n",
       " 'GAME_DATE': 'MAR 10, 2019',\n",
       " 'MATCHUP': 'GSW vs. PHX',\n",
       " 'WL': 'L',\n",
       " 'W': 45,\n",
       " 'L': 21,\n",
       " 'W_PCT': 0.682,\n",
       " 'MIN': 240,\n",
       " 'FGM': 42,\n",
       " 'FGA': 95,\n",
       " 'FG_PCT': 0.442,\n",
       " 'FG3M': 10,\n",
       " 'FG3A': 43,\n",
       " 'FG3_PCT': 0.233,\n",
       " 'FTM': 17,\n",
       " 'FTA': 22,\n",
       " 'FT_PCT': 0.773,\n",
       " 'OREB': 15,\n",
       " 'DREB': 34,\n",
       " 'REB': 49,\n",
       " 'AST': 34,\n",
       " 'STL': 10,\n",
       " 'BLK': 6,\n",
       " 'TOV': 17,\n",
       " 'PF': 24,\n",
       " 'PTS': 111}"
      ]
     },
     "execution_count": 69,
     "metadata": {},
     "output_type": "execute_result"
    }
   ],
   "source": [
    "matchedValues = dict(zip(gameLog['resultSets'][0]['headers'],singleGame))\n",
    "matchedValues"
   ]
  },
  {
   "cell_type": "markdown",
   "metadata": {},
   "source": [
    "NBA actually provides us with quite a bit of information. But we're primarily interested in the `WL` value. Unfortunetly we're not given a dictionary structure so we can't refer to it in a \"nice\" way, we'll just have to remember that the 4th record.\n",
    "\n",
    "So `gameLog['resultSets'][i][4]` will give us the `WL` record for game `i`.\n",
    "\n",
    "Let's gather all the games available and see what we get."
   ]
  },
  {
   "cell_type": "code",
   "execution_count": null,
   "metadata": {},
   "outputs": [],
   "source": [
    "\n"
   ]
  }
 ],
 "metadata": {
  "kernelspec": {
   "display_name": "Python 3",
   "language": "python",
   "name": "python3"
  },
  "language_info": {
   "codemirror_mode": {
    "name": "ipython",
    "version": 3
   },
   "file_extension": ".py",
   "mimetype": "text/x-python",
   "name": "python",
   "nbconvert_exporter": "python",
   "pygments_lexer": "ipython3",
   "version": "3.7.2"
  }
 },
 "nbformat": 4,
 "nbformat_minor": 2
}
