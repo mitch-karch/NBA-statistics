{
 "cells": [
  {
   "cell_type": "markdown",
   "metadata": {},
   "source": [
    "# NBA Race to Contend : 40 before 20"
   ]
  },
  {
   "cell_type": "markdown",
   "metadata": {},
   "source": [
    "*Excerpt from http://www.espn.com/nba/powerrankings?year=2008&week=18*\n",
    "\n",
    "> The latest pearl of Zen wisdom from Phil Jackson: \"40 before 20.\" Translation: You must win 40 games before you lose 20 to be seen as an elite team"
   ]
  },
  {
   "cell_type": "markdown",
   "metadata": {},
   "source": [
    "## 1: Gathering Information and prototyping"
   ]
  },
  {
   "cell_type": "markdown",
   "metadata": {},
   "source": [
    "First we should gather all the information about the teams for easier reference, we can take advange of the ``nba_api`` library and the static information it will provide. Let's look at what we can get"
   ]
  },
  {
   "cell_type": "code",
   "execution_count": 1,
   "metadata": {},
   "outputs": [
    {
     "data": {
      "text/plain": [
       "{'id': 1610612739,\n",
       " 'full_name': 'Cleveland Cavaliers',\n",
       " 'abbreviation': 'CLE',\n",
       " 'nickname': 'Cavaliers',\n",
       " 'city': 'Cleveland',\n",
       " 'state': 'Ohio',\n",
       " 'year_founded': 1970}"
      ]
     },
     "execution_count": 1,
     "metadata": {},
     "output_type": "execute_result"
    }
   ],
   "source": [
    "from nba_api.stats.static import teams\n",
    "nba_teams = teams.get_teams()\n",
    "# What does this data look like?\n",
    "nba_teams[2]"
   ]
  },
  {
   "cell_type": "markdown",
   "metadata": {},
   "source": [
    "With this we can query the statistical endpoints from the nba website and the ``nba_api`` library."
   ]
  },
  {
   "cell_type": "markdown",
   "metadata": {},
   "source": [
    "We're interested in the magical win record score so we need to trace how a team progresses through the season. More importantly, **we don't want to just look at the end of the season to see a win record**, we're more interested in seeing if a team hit's 40 wins before 40 losses.\n",
    "\n",
    "Let's extract the game record for a team."
   ]
  },
  {
   "cell_type": "code",
   "execution_count": 2,
   "metadata": {},
   "outputs": [],
   "source": [
    "from nba_api.stats.endpoints import teamgamelog"
   ]
  },
  {
   "cell_type": "code",
   "execution_count": 3,
   "metadata": {},
   "outputs": [
    {
     "data": {
      "text/plain": [
       "{'id': 1610612744,\n",
       " 'full_name': 'Golden State Warriors',\n",
       " 'abbreviation': 'GSW',\n",
       " 'nickname': 'Warriors',\n",
       " 'city': 'Golden State',\n",
       " 'state': 'California',\n",
       " 'year_founded': 1946}"
      ]
     },
     "execution_count": 3,
     "metadata": {},
     "output_type": "execute_result"
    }
   ],
   "source": [
    "gsw = [team for team in nba_teams if team['abbreviation'] == 'GSW'][0]\n",
    "gsw"
   ]
  },
  {
   "cell_type": "code",
   "execution_count": 4,
   "metadata": {},
   "outputs": [],
   "source": [
    "gameLog = teamgamelog.TeamGameLog(gsw['id']).get_dict()"
   ]
  },
  {
   "cell_type": "markdown",
   "metadata": {},
   "source": [
    "The gameLog variable has quite a bit of information in it so let's inspect it and see what is accessible."
   ]
  },
  {
   "cell_type": "code",
   "execution_count": 5,
   "metadata": {},
   "outputs": [
    {
     "data": {
      "text/plain": [
       "[1610612744,\n",
       " '0021801000',\n",
       " 'MAR 10, 2019',\n",
       " 'GSW vs. PHX',\n",
       " 'L',\n",
       " 45,\n",
       " 21,\n",
       " 0.682,\n",
       " 240,\n",
       " 42,\n",
       " 95,\n",
       " 0.442,\n",
       " 10,\n",
       " 43,\n",
       " 0.233,\n",
       " 17,\n",
       " 22,\n",
       " 0.773,\n",
       " 15,\n",
       " 34,\n",
       " 49,\n",
       " 34,\n",
       " 10,\n",
       " 6,\n",
       " 17,\n",
       " 24,\n",
       " 111]"
      ]
     },
     "execution_count": 5,
     "metadata": {},
     "output_type": "execute_result"
    }
   ],
   "source": [
    "singleGame = gameLog['resultSets'][0]['rowSet'][0]\n",
    "singleGame"
   ]
  },
  {
   "cell_type": "markdown",
   "metadata": {},
   "source": [
    "Well those are a bunch of weird values, thankfully they package the headers for us so let's combine the data for us to get a better sense of what the information is."
   ]
  },
  {
   "cell_type": "code",
   "execution_count": 6,
   "metadata": {},
   "outputs": [
    {
     "data": {
      "text/plain": [
       "{'Team_ID': 1610612744,\n",
       " 'Game_ID': '0021801000',\n",
       " 'GAME_DATE': 'MAR 10, 2019',\n",
       " 'MATCHUP': 'GSW vs. PHX',\n",
       " 'WL': 'L',\n",
       " 'W': 45,\n",
       " 'L': 21,\n",
       " 'W_PCT': 0.682,\n",
       " 'MIN': 240,\n",
       " 'FGM': 42,\n",
       " 'FGA': 95,\n",
       " 'FG_PCT': 0.442,\n",
       " 'FG3M': 10,\n",
       " 'FG3A': 43,\n",
       " 'FG3_PCT': 0.233,\n",
       " 'FTM': 17,\n",
       " 'FTA': 22,\n",
       " 'FT_PCT': 0.773,\n",
       " 'OREB': 15,\n",
       " 'DREB': 34,\n",
       " 'REB': 49,\n",
       " 'AST': 34,\n",
       " 'STL': 10,\n",
       " 'BLK': 6,\n",
       " 'TOV': 17,\n",
       " 'PF': 24,\n",
       " 'PTS': 111}"
      ]
     },
     "execution_count": 6,
     "metadata": {},
     "output_type": "execute_result"
    }
   ],
   "source": [
    "matchedValues = dict(zip(gameLog['resultSets'][0]['headers'],singleGame))\n",
    "matchedValues"
   ]
  },
  {
   "cell_type": "markdown",
   "metadata": {},
   "source": [
    "NBA actually provides us with quite a bit of information. But we're primarily interested in the `WL` value. Unfortunetly we're not given a dictionary structure so we can't refer to it in a \"nice\" way, we'll just have to remember that the 4th record.\n",
    "\n",
    "So `gameLog['resultSets'][0]['rowSet'][i][4]` will give us the `WL` record for game `i`.\n",
    "\n",
    "Let's gather all the games available and see what we get."
   ]
  },
  {
   "cell_type": "code",
   "execution_count": 7,
   "metadata": {},
   "outputs": [
    {
     "name": "stdout",
     "output_type": "stream",
     "text": [
      "L\n",
      "W\n",
      "L\n",
      "W\n",
      "L\n",
      "L\n",
      "W\n",
      "L\n",
      "W\n",
      "L\n",
      "W\n",
      "W\n",
      "W\n",
      "W\n",
      "W\n",
      "L\n",
      "W\n",
      "W\n",
      "W\n",
      "W\n",
      "W\n",
      "W\n",
      "W\n",
      "W\n",
      "W\n",
      "W\n",
      "W\n",
      "L\n",
      "W\n",
      "W\n",
      "L\n",
      "L\n",
      "W\n",
      "W\n",
      "L\n",
      "W\n",
      "W\n",
      "L\n",
      "W\n",
      "W\n",
      "W\n",
      "W\n",
      "L\n",
      "L\n",
      "W\n",
      "W\n",
      "W\n",
      "L\n",
      "L\n",
      "L\n",
      "L\n",
      "W\n",
      "L\n",
      "W\n",
      "L\n",
      "W\n",
      "W\n",
      "W\n",
      "W\n",
      "W\n",
      "W\n",
      "W\n",
      "W\n",
      "L\n",
      "W\n",
      "W\n"
     ]
    }
   ],
   "source": [
    "for game in gameLog['resultSets'][0]['rowSet']:\n",
    "    print(game[4])"
   ]
  },
  {
   "cell_type": "markdown",
   "metadata": {},
   "source": [
    "This structure of code is quite common so we can take advantage of python ***List Comprehensions***. This will automatically take our loop and store the values in the variable."
   ]
  },
  {
   "cell_type": "code",
   "execution_count": 8,
   "metadata": {},
   "outputs": [],
   "source": [
    "winLossRecord = [game[4] for game in gameLog['resultSets'][0]['rowSet']]"
   ]
  },
  {
   "cell_type": "code",
   "execution_count": 9,
   "metadata": {},
   "outputs": [
    {
     "data": {
      "text/plain": [
       "['L', 'W', 'L', 'W', 'L', 'L', 'W', 'L', 'W', 'L']"
      ]
     },
     "execution_count": 9,
     "metadata": {},
     "output_type": "execute_result"
    }
   ],
   "source": [
    "# Let's look at 10 records\n",
    "winLossRecord[:10]"
   ]
  },
  {
   "cell_type": "markdown",
   "metadata": {},
   "source": [
    "An issue with this format is that games are either Win or Loss, but we're given a character as that representation. A `True` or `False` condition of whether or not the team had won makes more sense. Let's convert those characters to a more friendly `boolean` type.\n",
    "\n",
    "All we need to do is ask if the character is a `'W'` or not."
   ]
  },
  {
   "cell_type": "code",
   "execution_count": 10,
   "metadata": {},
   "outputs": [
    {
     "data": {
      "text/plain": [
       "[True, True, False, True, True, True, True, True, True, True]"
      ]
     },
     "execution_count": 10,
     "metadata": {},
     "output_type": "execute_result"
    }
   ],
   "source": [
    "winLossRecord = [game[4] == 'W' for game in gameLog['resultSets'][0]['rowSet']]\n",
    "winLossRecord.reverse() #The api returns the most recent game first. We want to start with the oldest game (game 1)\n",
    "winLossRecord[:10]"
   ]
  },
  {
   "cell_type": "markdown",
   "metadata": {},
   "source": [
    "This will let us do more interesting computations.\n",
    "\n",
    "Going back to what we're interested in, we'd like to compute the win record as a rolling value. This will be good for our visualizations in a bit, but to give an example of what transformation we want to see consider the following:\n",
    "\n",
    "`[False, True, False, True, False, False, True, False, True, False]` to become\n",
    "\n",
    "`[0, 1, 1, 2, 2, 2, 3, 3, 4, 4]`\n",
    "\n",
    "This transformation is a bit more nuanced but we can take advantage of some really cool [\"code-golf\"](https://codegolf.stackexchange.com/) features within python, but be warned that [Here be Dragons](https://www.wikiwand.com/en/Here_be_dragons) but we will work it out."
   ]
  },
  {
   "cell_type": "code",
   "execution_count": 11,
   "metadata": {},
   "outputs": [
    {
     "data": {
      "text/plain": [
       "[1, 2, 2, 3, 4, 5, 6, 7, 8, 9]"
      ]
     },
     "execution_count": 11,
     "metadata": {},
     "output_type": "execute_result"
    }
   ],
   "source": [
    "rollingCount = [winLossRecord[:x+1].count(True) for x in range(len(winLossRecord))]\n",
    "rollingCount[:10]"
   ]
  },
  {
   "cell_type": "markdown",
   "metadata": {},
   "source": [
    "Quite the one liner. Now this isn't the most efficient code but it is the most succint. Let's look into it a little bit more to figure out what is going on.\n",
    "\n",
    "`range(len(winLossRecord))` gives us an index for every value in the `winLossRecord` list and stores that value in `x`.\n",
    "\n",
    "Once we have that, we can go back into `winLossRecord` and slice, or give us a subsection of the list, from the first value to the `x+1` value. From there, we ask to count how many `True` values exist.\n",
    "\n",
    "This is what is considered a \"cute\" solution, it's not the most efficient, but it's succint. [Some soon to be implemented features in python can help make the solution efficient and \"cute'](https://www.python.org/dev/peps/pep-0572/).\n",
    "\n",
    "Now we can see a win record as we progress through the season. Let's see how that looks plotted."
   ]
  },
  {
   "cell_type": "code",
   "execution_count": 17,
   "metadata": {},
   "outputs": [],
   "source": [
    "import matplotlib\n",
    "import numpy as np\n",
    "import matplotlib.pyplot as plt\n",
    "plt.rcParams['figure.figsize'] = [10, 5]\n",
    "%matplotlib inline"
   ]
  },
  {
   "cell_type": "code",
   "execution_count": 16,
   "metadata": {},
   "outputs": [
    {
     "data": {
      "image/png": "[encoded data removed]",
      "text/plain": [
       "<Figure size 432x288 with 1 Axes>"
      ]
     },
     "metadata": {
      "needs_background": "light"
     },
     "output_type": "display_data"
    }
   ],
   "source": [
    "gameRange = np.arange(len(rollingCount))\n",
    "plt.plot(gameRange, rollingCount)\n",
    "\n",
    "# Plot labels and formatting\n",
    "plt.title(gsw['abbreviation']+\" wins\")\n",
    "plt.xlabel('Games Played')\n",
    "plt.ylabel('Games Won')\n",
    "plt.xlim([0,82])\n",
    "plt.ylim([0,len(rollingCount)])\n",
    "plt.grid(True)"
   ]
  },
  {
   "cell_type": "markdown",
   "metadata": {},
   "source": [
    "Now we've got a pretty good prototype of a running win rate graph. With grids enabled we can get a good sense for progress, but let's make it more obvious."
   ]
  },
  {
   "cell_type": "code",
   "execution_count": 26,
   "metadata": {},
   "outputs": [
    {
     "data": {
      "image/png": "[encoded data removed]",
      "text/plain": [
       "<Figure size 432x288 with 1 Axes>"
      ]
     },
     "metadata": {
      "needs_background": "light"
     },
     "output_type": "display_data"
    }
   ],
   "source": [
    "gameRange = np.arange(len(rollingCount))\n",
    "plt.plot(gameRange, rollingCount, label=\"Games Won\")\n",
    "\n",
    "plt.axhline(y=40, color='g', label=\"40-Win Line\")\n",
    "plt.axvline(x=60, color='r', label=\"Max Contender Limit\")\n",
    "\n",
    "# Plot labels and formatting\n",
    "plt.title(gsw['abbreviation']+\" wins\")\n",
    "plt.xlabel('Games Played')\n",
    "plt.ylabel('Games Won')\n",
    "plt.xlim([0,82])\n",
    "plt.ylim([0,len(rollingCount)])\n",
    "plt.legend(loc=\"upper left\")\n",
    "plt.grid(True)"
   ]
  },
  {
   "cell_type": "markdown",
   "metadata": {},
   "source": [
    "That looks pretty good. Let's generalize this for any given team."
   ]
  },
  {
   "cell_type": "code",
   "execution_count": null,
   "metadata": {},
   "outputs": [],
   "source": []
  }
 ],
 "metadata": {
  "kernelspec": {
   "display_name": "Python 3",
   "language": "python",
   "name": "python3"
  },
  "language_info": {
   "codemirror_mode": {
    "name": "ipython",
    "version": 3
   },
   "file_extension": ".py",
   "mimetype": "text/x-python",
   "name": "python",
   "nbconvert_exporter": "python",
   "pygments_lexer": "ipython3",
   "version": "3.7.2"
  }
 },
 "nbformat": 4,
 "nbformat_minor": 2
}
