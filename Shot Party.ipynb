{
 "cells": [
  {
   "cell_type": "code",
   "execution_count": 25,
   "metadata": {},
   "outputs": [],
   "source": [
    "import matplotlib.pyplot as plt\n",
    "from nba_api.stats.static import teams\n",
    "from nba_api.stats.endpoints import shotchartdetail\n",
    "nba_teams = teams.get_teams()"
   ]
  },
  {
   "cell_type": "code",
   "execution_count": 6,
   "metadata": {},
   "outputs": [],
   "source": [
    "from nba_api.stats.static import players\n",
    "from nba_api.stats.endpoints import commonplayerinfo\n",
    "steph = players.find_players_by_full_name('stephen curry')[0]\n",
    "steph_info = commonplayerinfo.CommonPlayerInfo(player_id=steph['id'])"
   ]
  },
  {
   "cell_type": "code",
   "execution_count": 86,
   "metadata": {},
   "outputs": [],
   "source": [
    "currentSeason = steph_info.get_normalized_dict()['AvailableSeasons'][-1]"
   ]
  },
  {
   "cell_type": "code",
   "execution_count": 91,
   "metadata": {},
   "outputs": [],
   "source": [
    "steph_chart = shotchartdetail.ShotChartDetail(player_id=steph['id'],team_id=0,season_nullable='2018-19').get_normalized_dict()['Shot_Chart_Detail']"
   ]
  },
  {
   "cell_type": "code",
   "execution_count": 92,
   "metadata": {},
   "outputs": [
    {
     "data": {
      "text/plain": [
       "577"
      ]
     },
     "execution_count": 92,
     "metadata": {},
     "output_type": "execute_result"
    }
   ],
   "source": [
    "len(steph_chart)"
   ]
  },
  {
   "cell_type": "code",
   "execution_count": 93,
   "metadata": {},
   "outputs": [
    {
     "data": {
      "text/plain": [
       "{'GRID_TYPE': 'Shot Chart Detail',\n",
       " 'GAME_ID': '0021801118',\n",
       " 'GAME_EVENT_ID': 397,\n",
       " 'PLAYER_ID': 201939,\n",
       " 'PLAYER_NAME': 'Stephen Curry',\n",
       " 'TEAM_ID': 1610612744,\n",
       " 'TEAM_NAME': 'Golden State Warriors',\n",
       " 'PERIOD': 3,\n",
       " 'MINUTES_REMAINING': 6,\n",
       " 'SECONDS_REMAINING': 39,\n",
       " 'EVENT_TYPE': 'Made Shot',\n",
       " 'ACTION_TYPE': 'Jump Shot',\n",
       " 'SHOT_TYPE': '3PT Field Goal',\n",
       " 'SHOT_ZONE_BASIC': 'Left Corner 3',\n",
       " 'SHOT_ZONE_AREA': 'Left Side(L)',\n",
       " 'SHOT_ZONE_RANGE': '24+ ft.',\n",
       " 'SHOT_DISTANCE': 23,\n",
       " 'LOC_X': -231,\n",
       " 'LOC_Y': -16,\n",
       " 'SHOT_ATTEMPTED_FLAG': 1,\n",
       " 'SHOT_MADE_FLAG': 1,\n",
       " 'GAME_DATE': '20190327',\n",
       " 'HTM': 'MEM',\n",
       " 'VTM': 'GSW'}"
      ]
     },
     "execution_count": 93,
     "metadata": {},
     "output_type": "execute_result"
    }
   ],
   "source": [
    "steph_chart[575]"
   ]
  },
  {
   "cell_type": "code",
   "execution_count": 95,
   "metadata": {},
   "outputs": [
    {
     "data": {
      "image/png": "[encoded data removed]",
      "text/plain": [
       "<Figure size 432x288 with 1 Axes>"
      ]
     },
     "metadata": {
      "needs_background": "light"
     },
     "output_type": "display_data"
    }
   ],
   "source": [
    "x_shotLocations = []\n",
    "y_shotLocations = []\n",
    "for i in range(len(steph_chart)):\n",
    "    x_shotLocations.append(steph_chart[i]['LOC_X'])\n",
    "    y_shotLocations.append(steph_chart[i]['LOC_Y'])\n",
    "plt.scatter(x_shotLocations,y_shotLocations)\n",
    "plt.show()"
   ]
  },
  {
   "cell_type": "code",
   "execution_count": null,
   "metadata": {},
   "outputs": [],
   "source": []
  }
 ],
 "metadata": {
  "kernelspec": {
   "display_name": "Python 3",
   "language": "python",
   "name": "python3"
  },
  "language_info": {
   "codemirror_mode": {
    "name": "ipython",
    "version": 3
   },
   "file_extension": ".py",
   "mimetype": "text/x-python",
   "name": "python",
   "nbconvert_exporter": "python",
   "pygments_lexer": "ipython3",
   "version": "3.6.5"
  }
 },
 "nbformat": 4,
 "nbformat_minor": 2
}
